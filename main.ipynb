{
 "cells": [
  {
   "cell_type": "code",
   "execution_count": 2,
   "metadata": {
    "collapsed": true,
    "ExecuteTime": {
     "end_time": "2023-05-24T16:43:40.880139Z",
     "start_time": "2023-05-24T16:43:40.876772Z"
    }
   },
   "outputs": [],
   "source": [
    "data_file_name = '/Users/Ethan/Developer/Projects/College/大四下/數據分析/期末/91APP_DataSet_2023'"
   ]
  },
  {
   "cell_type": "code",
   "execution_count": 3,
   "metadata": {
    "collapsed": false,
    "ExecuteTime": {
     "end_time": "2023-05-24T16:43:41.891102Z",
     "start_time": "2023-05-24T16:43:41.887898Z"
    }
   },
   "outputs": [],
   "source": [
    "from pathlib import Path\n",
    "import pandas as pd\n",
    "import os\n",
    "import matplotlib.pyplot as plt\n",
    "from datetime import timedelta, datetime\n",
    "import sqlite3\n",
    "from sqlalchemy import create_engine, MetaData, Table, Column, Integer, String\n",
    "from sqlalchemy.orm import sessionmaker\n",
    "import pandas as pd\n",
    "from tqdm import tqdm\n",
    "\n",
    "# create database\n",
    "_ = sqlite3.connect('database.db')\n",
    "\n",
    "# Define the SQLAlchemy engine and session\n",
    "engine = create_engine('sqlite:///database.db')\n",
    "Session = sessionmaker(bind=engine)\n",
    "session = Session()\n",
    "\n",
    "data_file_name = Path(data_file_name)"
   ]
  },
  {
   "cell_type": "code",
   "execution_count": 3,
   "metadata": {},
   "outputs": [],
   "source": [
    "from sqlalchemy import Column, Integer, String, Float, Boolean, DateTime, PrimaryKeyConstraint, ForeignKey\n",
    "from sqlalchemy.orm import declarative_base, relationship\n",
    "\n",
    "Base = declarative_base()\n",
    "\n",
    "class MemberData(Base):\n",
    "    __tablename__ = 'MemberData'\n",
    "    \n",
    "    # Define columns\n",
    "    ShopMemberId = Column(String, primary_key=True)\n",
    "    RegisterSourceTypeDef = Column(String)\n",
    "    RegisterDateTime = Column(DateTime)\n",
    "    Gender = Column(String)\n",
    "    Birthday = Column(DateTime)\n",
    "    IsAppInstalled = Column(Boolean)\n",
    "    IsEnableEmail = Column(Boolean)\n",
    "    IsEnablePushNotification = Column(Boolean)\n",
    "    IsEnableShortMessage = Column(Boolean)\n",
    "    MemberCardLevel = Column(Integer)\n",
    "    CountryAliasCode = Column(String)\n",
    "\n",
    "class BehaviorData(Base):\n",
    "    __tablename__ = 'BehaviorData'\n",
    "\n",
    "    # Define columns\n",
    "    id = Column(Integer, primary_key=True)\n",
    "    Tunnel = Column(String)\n",
    "    Device = Column(String)\n",
    "    FullvisitorId = Column(String)\n",
    "    DeviceId = Column(String)\n",
    "    ShopMemberId = Column(String, ForeignKey('MemberData.ShopMemberId'))  # Foreign key relationship\n",
    "    HitTime = Column(DateTime)\n",
    "    Language = Column(String)\n",
    "    CountryAliasCode = Column(String)\n",
    "    Version = Column(String)\n",
    "    UTMSource = Column(String)\n",
    "    UTMMedium = Column(String)\n",
    "    UTMName = Column(String)\n",
    "    Behavior = Column(String)\n",
    "    RegisterTunnel = Column(String)\n",
    "    CategoryId = Column(String)\n",
    "    SalePageId = Column(String)\n",
    "    UnitPrice = Column(Float)\n",
    "    Qty = Column(Float)\n",
    "    TotalSalesAmount = Column(Float)\n",
    "    CurrencyCode = Column(String)\n",
    "    TradesGroupCode = Column(String)\n",
    "    SearchTerm = Column(String)\n",
    "    ContentType = Column(String)\n",
    "    ContentName = Column(String)\n",
    "    ContentId = Column(String)\n",
    "    PageType = Column(String)\n",
    "    EventTime = Column(DateTime)\n",
    "\n",
    "    # Define primary key constraint\n",
    "    __table_args__ = (\n",
    "        PrimaryKeyConstraint('id'),\n",
    "    )\n",
    "    \n",
    "    # Define the relationship to MemberData\n",
    "    MemberData = relationship('MemberData', foreign_keys='BehaviorData.ShopMemberId')\n",
    "\n",
    "\n",
    "    \n",
    "# create tables\n",
    "Base.metadata.create_all(engine)\n"
   ]
  },
  {
   "cell_type": "code",
   "execution_count": 4,
   "metadata": {
    "ExecuteTime": {
     "end_time": "2023-05-24T16:43:50.987641Z",
     "start_time": "2023-05-24T16:43:46.387727Z"
    }
   },
   "outputs": [],
   "source": [
    "data_types = {\n",
    "    'ShopMemberId': str,\n",
    "    'RegisterSourceTypeDef': str,\n",
    "    'RegisterDateTime': str,\n",
    "    'Gender': str,\n",
    "    'Birthday': str,\n",
    "    'APPRefereeId': str,\n",
    "    'APPRefereeLocationId': str,\n",
    "    'IsAppInstalled': bool,\n",
    "    'IsEnableEmail': bool,\n",
    "    'IsEnablePushNotification': bool,\n",
    "    'IsEnableShortMessage': bool,\n",
    "    'FirstAppOpenDateTime': str,\n",
    "    'LastAppOpenDateTime': str,\n",
    "    'MemberCardLevel': int,\n",
    "    'CountryAliasCode': str,\n",
    "    'FirstAppOpenDateTime': str,\n",
    "    'LastAppOpenDateTime': str\n",
    "    \n",
    "}\n",
    "df = pd.read_csv(data_file_name / 'MemberData.csv', dtype=data_types)\n",
    "df['RegisterDateTime'] = pd.to_datetime(df['RegisterDateTime'], format='ISO8601')\n",
    "df['Birthday'] = df['Birthday'].apply(lambda x: datetime.strptime(x, '%Y-%m-%d'))\n",
    "df = df.drop(columns=['APPRefereeId', 'APPRefereeLocationId', 'FirstAppOpenDateTime', 'LastAppOpenDateTime'])"
   ]
  },
  {
   "cell_type": "code",
   "execution_count": 8,
   "metadata": {
    "ExecuteTime": {
     "end_time": "2023-05-24T16:44:35.305908Z",
     "start_time": "2023-05-24T16:44:34.214005Z"
    }
   },
   "outputs": [
    {
     "data": {
      "text/plain": "0"
     },
     "execution_count": 8,
     "metadata": {},
     "output_type": "execute_result"
    }
   ],
   "source": [
    "records = []\n",
    "for record in tqdm(df.to_dict(orient='records')):\n",
    "    records.append(MemberData(**record))\n",
    "    \n",
    "session.add_all(records)\n",
    "session.commit()"
   ]
  },
  {
   "cell_type": "code",
   "execution_count": 8,
   "metadata": {},
   "outputs": [],
   "source": [
    "def get_member_df(file_name: [str, Path]) -> pd.DataFrame:\n",
    "    data_types = {\n",
    "        'ShopMemberId': str,\n",
    "        'RegisterSourceTypeDef': str,\n",
    "        'RegisterDateTime': str,\n",
    "        'Gender': str,\n",
    "        'Birthday': str,\n",
    "        'APPRefereeId': str,\n",
    "        'APPRefereeLocationId': str,\n",
    "        'IsAppInstalled': bool,\n",
    "        'IsEnableEmail': bool,\n",
    "        'IsEnablePushNotification': bool,\n",
    "        'IsEnableShortMessage': bool,\n",
    "        'FirstAppOpenDateTime': str,\n",
    "        'LastAppOpenDateTime': str,\n",
    "        'MemberCardLevel': int,\n",
    "        'CountryAliasCode': str,\n",
    "        'FirstAppOpenDateTime': str,\n",
    "        'LastAppOpenDateTime': str\n",
    "        \n",
    "    }\n",
    "    df = pd.read_csv(data_file_name / 'MemberData.csv', dtype=data_types)\n",
    "    df['RegisterDateTime'] = pd.to_datetime(df['RegisterDateTime'], format='ISO8601')\n",
    "    df['Birthday'] = df['Birthday'].apply(lambda x: datetime.strptime(x, '%Y-%m-%d'))\n",
    "    df = df.drop(columns=['APPRefereeId', 'APPRefereeLocationId', 'FirstAppOpenDateTime', 'LastAppOpenDateTime'])\n",
    "    return df\n",
    "\n",
    "def get_behavior_df(file_name: [str, Path]) -> pd.DataFrame:\n",
    "    \"\"\"load behavior data from csv file and return a dataframe\n",
    "    param: file_name: str or Path object\n",
    "    \"\"\"\n",
    "    global data_file_name\n",
    "    data_types = {\n",
    "        'Tunnel': str,\n",
    "        'Device': str,\n",
    "        'FullvisitorId': str,\n",
    "        'DeviceId': str,\n",
    "        'ShopMemberId': str,\n",
    "        'HitTime': int,\n",
    "        'Language': str,\n",
    "        'CountryAliasCode': str,\n",
    "        'Version': str,\n",
    "        'UTMSource': str,\n",
    "        'UTMMedium': str,\n",
    "        'UTMName': str,\n",
    "        'Behavior': str,\n",
    "        'RegisterTunnel': str,\n",
    "        'CategoryId': str,\n",
    "        'SalePageId': str,\n",
    "        'UnitPrice': float,\n",
    "        'Qty': float,\n",
    "        'TotalSalesAmount': float,\n",
    "        'CurrencyCode': str,\n",
    "        'TradesGroupCode': str,\n",
    "        'SearchTerm': str,\n",
    "        'ContentType': str,\n",
    "        'ContentName': str,\n",
    "        'ContentId': str,\n",
    "        'PageType': str,\n",
    "        'EventTime': int\n",
    "    }\n",
    "    df = pd.read_csv(data_file_name / 'BehaviorData' / file_name, dtype=data_types)\n",
    "    df['HitTime'] = pd.to_datetime(df['HitTime'], unit='ms')\n",
    "    df['EventTime'] = pd.to_datetime(df['EventTime'], unit='ms')\n",
    "    return df\n",
    "\n",
    "df = get_behavior_df('BehaviorData_2022-12-01.csv')"
   ]
  },
  {
   "cell_type": "code",
   "execution_count": 7,
   "metadata": {},
   "outputs": [
    {
     "name": "stderr",
     "output_type": "stream",
     "text": [
      "100%|██████████| 6292023/6292023 [03:20<00:00, 31316.25it/s]\n"
     ]
    }
   ],
   "source": [
    "chunk_size = 10_000  # Number of records to add in each chunk\n",
    "records = []\n",
    "for index, record in enumerate(tqdm(df.to_dict(orient='records'))):\n",
    "    records.append(BehaviorData(**record))\n",
    "    \n",
    "    if (index + 1) % chunk_size == 0:\n",
    "        session.add_all(records)\n",
    "        session.commit()\n",
    "        records = []  # Reset the records list after committing the chunk\n",
    "\n",
    "# Add any remaining records\n",
    "if records:\n",
    "    session.add_all(records)\n",
    "    session.commit()"
   ]
  },
  {
   "attachments": {},
   "cell_type": "markdown",
   "metadata": {},
   "source": [
    "# Data research"
   ]
  },
  {
   "cell_type": "code",
   "execution_count": 92,
   "metadata": {},
   "outputs": [
    {
     "data": {
      "image/png": "[encoded data removed]",
      "text/plain": [
       "<Figure size 640x480 with 1 Axes>"
      ]
     },
     "metadata": {},
     "output_type": "display_data"
    }
   ],
   "source": [
    "x, y = [], []\n",
    "session_time = df.groupby(['FullvisitorId', 'HitTime']).agg({'EventTime': lambda x: x.max() - x.min()})\n",
    "total = session_size.count()\n",
    "for i in range(0, 100):\n",
    "    x.append(i)\n",
    "    y.append((session_time <= timedelta(minutes=i)).sum() / total)\n",
    "plt.title('CDF of Session timespan (minutes)')\n",
    "plt.ylabel('CDF')\n",
    "plt.xlabel('Session timespan (minutes)')\n",
    "plt.plot(x, y)\n",
    "plt.show()"
   ]
  },
  {
   "cell_type": "code",
   "execution_count": 56,
   "metadata": {
    "collapsed": false,
    "pycharm": {
     "is_executing": true
    }
   },
   "outputs": [],
   "source": [
    "session_size = df.groupby(['FullvisitorId', 'HitTime']).size()\n",
    "total = session_size.count()"
   ]
  },
  {
   "cell_type": "code",
   "execution_count": 71,
   "metadata": {},
   "outputs": [
    {
     "data": {
      "image/png": "[encoded data removed]",
      "text/plain": [
       "<Figure size 640x480 with 1 Axes>"
      ]
     },
     "metadata": {},
     "output_type": "display_data"
    }
   ],
   "source": [
    "x, y = [], []\n",
    "session_size = df.groupby(['FullvisitorId', 'HitTime']).size()\n",
    "total = session_size.count()\n",
    "for i in range(0, 100):\n",
    "    x.append(i)\n",
    "    y.append((session_size <= i).sum() / total)\n",
    "plt.title('CDF of Session action count')\n",
    "plt.ylabel('CDF')\n",
    "plt.xlabel('Session action count')\n",
    "plt.plot(x, y)\n",
    "plt.show()"
   ]
  },
  {
   "cell_type": "code",
   "execution_count": 72,
   "metadata": {},
   "outputs": [
    {
     "data": {
      "text/plain": [
       "FullvisitorId\n",
       "+++LSTmx5GYB7Bb/STNwnloUtSzHfTT8BqtNjgAmW3CyddhSZyQHmKsxPbEnddad      1\n",
       "+++VZPESPLvKDyhBO9mR3uq2sP7/iUCFak8l/bg2ONNEOA1xeFIg1V60suRdomlb      2\n",
       "+++c4GdFQqxd+ZG6XcrdQMZxKwWx3avWB8NB/5oSyOeT4F+rPmiE/b/AI88Aa7t1      1\n",
       "++0TAWLrhMSbd/fI8td3tLrHHk84RMX/fmy3QYGSeX6y8dI5DBBYsfutxAUURvNB      3\n",
       "++0mLBg6hKATnG/3PV7Ad1a/klzftg6i2OWcZX6q94fFjr1/Tr37hYfLStbNe5FO      3\n",
       "                                                                   ... \n",
       "zzxpE1gA5Z/8CalLufbnqR9U0/OD3wB66hbvFJXdbvNWKK89gHrNVrzaytpojpzw     24\n",
       "zzyw86e2SvSEat8RMCKjSYgRQq29bBy10I9dGRDyBNqy7XJ7BQ0avSfnUqPk0sHj     26\n",
       "zzzDvMiVpirPUgFhLIkFQqCJdhL/gmEIarLdKCoSiWl2Vo//w7QfyLUbUZ/vBLwL    111\n",
       "zzzoSixfL2JR9NoijTmhdrixrNxR48n+zRRmvCDVXSy6oOmugZq7aDqPEJoMFwYu      1\n",
       "zzzy7pDThZq3S7f2+wuDqExGkcRiqkOThzLALqapli3AKHLaPYOrv47lh/O+Q+hU     46\n",
       "Length: 417649, dtype: int64"
      ]
     },
     "execution_count": 72,
     "metadata": {},
     "output_type": "execute_result"
    }
   ],
   "source": [
    "df.groupby(['FullvisitorId']).size()"
   ]
  },
  {
   "cell_type": "code",
   "execution_count": 73,
   "metadata": {},
   "outputs": [],
   "source": [
    "nuniq = df.groupby('ShopMemberId')['FullvisitorId'].nunique()"
   ]
  },
  {
   "cell_type": "code",
   "execution_count": 74,
   "metadata": {},
   "outputs": [],
   "source": [
    "null_percentage = (df['ShopMemberId'].isnull().sum() / len(df)) * 100\n",
    "member_df = df[df['ShopMemberId'].isnull()]"
   ]
  },
  {
   "attachments": {},
   "cell_type": "markdown",
   "metadata": {},
   "source": [
    "28 percent of session only have 1 action\n"
   ]
  }
 ],
 "metadata": {
  "kernelspec": {
   "display_name": "Python 3",
   "language": "python",
   "name": "python3"
  },
  "language_info": {
   "codemirror_mode": {
    "name": "ipython",
    "version": 3
   },
   "file_extension": ".py",
   "mimetype": "text/x-python",
   "name": "python",
   "nbconvert_exporter": "python",
   "pygments_lexer": "ipython3",
   "version": "3.11.2"
  }
 },
 "nbformat": 4,
 "nbformat_minor": 0
}
