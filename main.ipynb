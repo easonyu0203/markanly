{
 "cells": [
  {
   "cell_type": "markdown",
   "source": [
    "# Generate Dataset\n",
    "using the raw data in database, we will generate dataset using DatasetGenerator"
   ],
   "metadata": {
    "collapsed": false
   }
  },
  {
   "cell_type": "code",
   "execution_count": 1,
   "outputs": [],
   "source": [
    "from datetime import datetime\n",
    "\n",
    "from dataset.Labeler import Labeler\n",
    "from dataset.dataset_generator import DatasetGenerator\n",
    "from dataset.feature_transformer import FeatureTransformer\n",
    "from dataset.session_filterer import SessionFilterer"
   ],
   "metadata": {
    "collapsed": false,
    "ExecuteTime": {
     "end_time": "2023-05-26T15:04:13.527863Z",
     "start_time": "2023-05-26T15:04:13.167379Z"
    }
   }
  },
  {
   "cell_type": "code",
   "execution_count": 3,
   "metadata": {
    "collapsed": true,
    "ExecuteTime": {
     "end_time": "2023-05-26T15:04:53.702240Z",
     "start_time": "2023-05-26T15:04:41.982797Z"
    }
   },
   "outputs": [
    {
     "name": "stdout",
     "output_type": "stream",
     "text": [
      "generate dataset...\n"
     ]
    },
    {
     "name": "stderr",
     "output_type": "stream",
     "text": [
      "128778it [00:11, 11039.02it/s]\n"
     ]
    },
    {
     "name": "stdout",
     "output_type": "stream",
     "text": [
      "generate dataset done.\n"
     ]
    }
   ],
   "source": [
    "dataset_generator = DatasetGenerator(\n",
    "    feature_transformer=FeatureTransformer(),\n",
    "    labeler=Labeler(),\n",
    "    session_filterer=SessionFilterer(),\n",
    "\n",
    "    start_date=datetime(2023, 3, 1), end_date=datetime(2023, 4, 1)\n",
    ")\n",
    "\n",
    "X, Y = dataset_generator.generate()"
   ]
  },
  {
   "cell_type": "code",
   "execution_count": 4,
   "outputs": [
    {
     "data": {
      "text/plain": "((104702, 4), (104702,))"
     },
     "execution_count": 4,
     "metadata": {},
     "output_type": "execute_result"
    }
   ],
   "source": [
    "X.shape, Y.shape"
   ],
   "metadata": {
    "collapsed": false,
    "ExecuteTime": {
     "end_time": "2023-05-26T15:04:59.410702Z",
     "start_time": "2023-05-26T15:04:59.404092Z"
    }
   }
  },
  {
   "cell_type": "code",
   "execution_count": 5,
   "outputs": [
    {
     "data": {
      "text/plain": "array([0.60201667, 0.56325   , 0.39651667, 0.57905   , 6.11645   ,\n       5.95556667, 5.83566667, 5.71813333, 5.65556667, 5.40785   ])"
     },
     "execution_count": 5,
     "metadata": {},
     "output_type": "execute_result"
    }
   ],
   "source": [],
   "metadata": {
    "collapsed": false,
    "ExecuteTime": {
     "end_time": "2023-05-26T15:15:00.032324Z",
     "start_time": "2023-05-26T15:15:00.028617Z"
    }
   }
  }
 ],
 "metadata": {
  "kernelspec": {
   "display_name": "Python 3",
   "language": "python",
   "name": "python3"
  },
  "language_info": {
   "codemirror_mode": {
    "name": "ipython",
    "version": 2
   },
   "file_extension": ".py",
   "mimetype": "text/x-python",
   "name": "python",
   "nbconvert_exporter": "python",
   "pygments_lexer": "ipython2",
   "version": "2.7.6"
  }
 },
 "nbformat": 4,
 "nbformat_minor": 0
}
