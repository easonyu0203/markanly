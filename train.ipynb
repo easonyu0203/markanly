{
 "cells": [
  {
   "attachments": {},
   "cell_type": "markdown",
   "metadata": {
    "collapsed": false
   },
   "source": [
    "# Generate Dataset\n",
    "using the raw data in database, we will generate dataset using DatasetGenerator"
   ]
  },
  {
   "cell_type": "code",
   "execution_count": 1,
   "metadata": {
    "collapsed": false
   },
   "outputs": [],
   "source": [
    "from datetime import datetime\n",
    "\n",
    "from dataset.labeler import Labeler\n",
    "from dataset.dataset_generator import DatasetGenerator\n",
    "from dataset.feature_transformer import FeatureTransformer\n",
    "from dataset.session_filterer import SessionFilterer"
   ]
  },
  {
   "cell_type": "code",
   "execution_count": 2,
   "metadata": {
    "ExecuteTime": {
     "end_time": "2023-06-04T17:44:08.497994Z",
     "start_time": "2023-06-04T17:43:40.393102Z"
    },
    "collapsed": true
   },
   "outputs": [
    {
     "name": "stdout",
     "output_type": "stream",
     "text": [
      "generate dataset...\n"
     ]
    },
    {
     "name": "stderr",
     "output_type": "stream",
     "text": [
      "121546it [00:27, 4490.62it/s] "
     ]
    },
    {
     "name": "stdout",
     "output_type": "stream",
     "text": [
      "generate dataset done.\n"
     ]
    },
    {
     "name": "stderr",
     "output_type": "stream",
     "text": [
      "\n"
     ]
    }
   ],
   "source": [
    "dataset_generator = DatasetGenerator(\n",
    "    feature_transformer=FeatureTransformer(),\n",
    "    labeler=Labeler(),\n",
    "    session_filterer=SessionFilterer(),\n",
    "\n",
    "    start_date=datetime(2023, 3, 1), end_date=datetime(2023, 3, 2)\n",
    ")\n",
    "\n",
    "X, Y = dataset_generator.generate()"
   ]
  },
  {
   "cell_type": "code",
   "execution_count": 3,
   "metadata": {
    "ExecuteTime": {
     "end_time": "2023-06-04T11:23:49.102430Z",
     "start_time": "2023-06-04T11:23:49.099860Z"
    },
    "collapsed": false
   },
   "outputs": [
    {
     "data": {
      "text/plain": [
       "((87492, 38), (87492,))"
      ]
     },
     "execution_count": 3,
     "metadata": {},
     "output_type": "execute_result"
    }
   ],
   "source": [
    "X.shape, Y.shape"
   ]
  },
  {
   "cell_type": "code",
   "execution_count": 4,
   "metadata": {
    "collapsed": false
   },
   "outputs": [
    {
     "data": {
      "text/html": [
       "<div>\n",
       "<style scoped>\n",
       "    .dataframe tbody tr th:only-of-type {\n",
       "        vertical-align: middle;\n",
       "    }\n",
       "\n",
       "    .dataframe tbody tr th {\n",
       "        vertical-align: top;\n",
       "    }\n",
       "\n",
       "    .dataframe thead th {\n",
       "        text-align: right;\n",
       "    }\n",
       "</style>\n",
       "<table border=\"1\" class=\"dataframe\">\n",
       "  <thead>\n",
       "    <tr style=\"text-align: right;\">\n",
       "      <th></th>\n",
       "      <th>session_duration</th>\n",
       "      <th>num_actions</th>\n",
       "      <th>num_unique_pages</th>\n",
       "      <th>is_member</th>\n",
       "      <th>is_App</th>\n",
       "      <th>device</th>\n",
       "      <th>content_types</th>\n",
       "      <th>Banner001</th>\n",
       "      <th>TabBar</th>\n",
       "      <th>PopupAD</th>\n",
       "      <th>...</th>\n",
       "      <th>viewalbumdetail_time</th>\n",
       "      <th>viewvideodetail_time</th>\n",
       "      <th>viewarticledetail_time</th>\n",
       "      <th>viewecoupondetail_time</th>\n",
       "      <th>viewpromotiondetail_time</th>\n",
       "      <th>viewproduct_time</th>\n",
       "      <th>search_time</th>\n",
       "      <th>addtocart_time</th>\n",
       "      <th>viewmainpage_time</th>\n",
       "      <th>Y</th>\n",
       "    </tr>\n",
       "  </thead>\n",
       "  <tbody>\n",
       "    <tr>\n",
       "      <th>0</th>\n",
       "      <td>0.000</td>\n",
       "      <td>1.0</td>\n",
       "      <td>0.0</td>\n",
       "      <td>1.0</td>\n",
       "      <td>1.0</td>\n",
       "      <td>1.0</td>\n",
       "      <td>0.0</td>\n",
       "      <td>0.0</td>\n",
       "      <td>0.0</td>\n",
       "      <td>0.0</td>\n",
       "      <td>...</td>\n",
       "      <td>0.0</td>\n",
       "      <td>0.0</td>\n",
       "      <td>0.0</td>\n",
       "      <td>0.0</td>\n",
       "      <td>0.000</td>\n",
       "      <td>0.0</td>\n",
       "      <td>0.0</td>\n",
       "      <td>0.0</td>\n",
       "      <td>0.000</td>\n",
       "      <td>1.574067</td>\n",
       "    </tr>\n",
       "    <tr>\n",
       "      <th>1</th>\n",
       "      <td>2.157</td>\n",
       "      <td>2.0</td>\n",
       "      <td>1.0</td>\n",
       "      <td>1.0</td>\n",
       "      <td>1.0</td>\n",
       "      <td>1.0</td>\n",
       "      <td>1.0</td>\n",
       "      <td>0.0</td>\n",
       "      <td>0.0</td>\n",
       "      <td>0.0</td>\n",
       "      <td>...</td>\n",
       "      <td>0.0</td>\n",
       "      <td>0.0</td>\n",
       "      <td>0.0</td>\n",
       "      <td>0.0</td>\n",
       "      <td>0.000</td>\n",
       "      <td>0.0</td>\n",
       "      <td>0.0</td>\n",
       "      <td>0.0</td>\n",
       "      <td>2.157</td>\n",
       "      <td>1.538117</td>\n",
       "    </tr>\n",
       "    <tr>\n",
       "      <th>2</th>\n",
       "      <td>2.929</td>\n",
       "      <td>3.0</td>\n",
       "      <td>2.0</td>\n",
       "      <td>1.0</td>\n",
       "      <td>1.0</td>\n",
       "      <td>1.0</td>\n",
       "      <td>2.0</td>\n",
       "      <td>0.0</td>\n",
       "      <td>1.0</td>\n",
       "      <td>0.0</td>\n",
       "      <td>...</td>\n",
       "      <td>0.0</td>\n",
       "      <td>0.0</td>\n",
       "      <td>0.0</td>\n",
       "      <td>0.0</td>\n",
       "      <td>0.000</td>\n",
       "      <td>0.0</td>\n",
       "      <td>0.0</td>\n",
       "      <td>0.0</td>\n",
       "      <td>2.157</td>\n",
       "      <td>1.525250</td>\n",
       "    </tr>\n",
       "    <tr>\n",
       "      <th>3</th>\n",
       "      <td>81.492</td>\n",
       "      <td>4.0</td>\n",
       "      <td>2.0</td>\n",
       "      <td>1.0</td>\n",
       "      <td>1.0</td>\n",
       "      <td>1.0</td>\n",
       "      <td>2.0</td>\n",
       "      <td>0.0</td>\n",
       "      <td>1.0</td>\n",
       "      <td>0.0</td>\n",
       "      <td>...</td>\n",
       "      <td>0.0</td>\n",
       "      <td>0.0</td>\n",
       "      <td>0.0</td>\n",
       "      <td>0.0</td>\n",
       "      <td>0.000</td>\n",
       "      <td>0.0</td>\n",
       "      <td>0.0</td>\n",
       "      <td>0.0</td>\n",
       "      <td>2.157</td>\n",
       "      <td>0.215867</td>\n",
       "    </tr>\n",
       "    <tr>\n",
       "      <th>4</th>\n",
       "      <td>94.438</td>\n",
       "      <td>5.0</td>\n",
       "      <td>2.0</td>\n",
       "      <td>1.0</td>\n",
       "      <td>1.0</td>\n",
       "      <td>1.0</td>\n",
       "      <td>2.0</td>\n",
       "      <td>0.0</td>\n",
       "      <td>1.0</td>\n",
       "      <td>0.0</td>\n",
       "      <td>...</td>\n",
       "      <td>0.0</td>\n",
       "      <td>0.0</td>\n",
       "      <td>0.0</td>\n",
       "      <td>0.0</td>\n",
       "      <td>12.946</td>\n",
       "      <td>0.0</td>\n",
       "      <td>0.0</td>\n",
       "      <td>0.0</td>\n",
       "      <td>2.157</td>\n",
       "      <td>0.000100</td>\n",
       "    </tr>\n",
       "  </tbody>\n",
       "</table>\n",
       "<p>5 rows × 39 columns</p>\n",
       "</div>"
      ],
      "text/plain": [
       "   session_duration  num_actions  num_unique_pages  is_member  is_App  device   \n",
       "0             0.000          1.0               0.0        1.0     1.0     1.0  \\\n",
       "1             2.157          2.0               1.0        1.0     1.0     1.0   \n",
       "2             2.929          3.0               2.0        1.0     1.0     1.0   \n",
       "3            81.492          4.0               2.0        1.0     1.0     1.0   \n",
       "4            94.438          5.0               2.0        1.0     1.0     1.0   \n",
       "\n",
       "   content_types  Banner001  TabBar  PopupAD  ...  viewalbumdetail_time   \n",
       "0            0.0        0.0     0.0      0.0  ...                   0.0  \\\n",
       "1            1.0        0.0     0.0      0.0  ...                   0.0   \n",
       "2            2.0        0.0     1.0      0.0  ...                   0.0   \n",
       "3            2.0        0.0     1.0      0.0  ...                   0.0   \n",
       "4            2.0        0.0     1.0      0.0  ...                   0.0   \n",
       "\n",
       "   viewvideodetail_time  viewarticledetail_time  viewecoupondetail_time   \n",
       "0                   0.0                     0.0                     0.0  \\\n",
       "1                   0.0                     0.0                     0.0   \n",
       "2                   0.0                     0.0                     0.0   \n",
       "3                   0.0                     0.0                     0.0   \n",
       "4                   0.0                     0.0                     0.0   \n",
       "\n",
       "   viewpromotiondetail_time  viewproduct_time  search_time  addtocart_time   \n",
       "0                     0.000               0.0          0.0             0.0  \\\n",
       "1                     0.000               0.0          0.0             0.0   \n",
       "2                     0.000               0.0          0.0             0.0   \n",
       "3                     0.000               0.0          0.0             0.0   \n",
       "4                    12.946               0.0          0.0             0.0   \n",
       "\n",
       "   viewmainpage_time         Y  \n",
       "0              0.000  1.574067  \n",
       "1              2.157  1.538117  \n",
       "2              2.157  1.525250  \n",
       "3              2.157  0.215867  \n",
       "4              2.157  0.000100  \n",
       "\n",
       "[5 rows x 39 columns]"
      ]
     },
     "execution_count": 4,
     "metadata": {},
     "output_type": "execute_result"
    }
   ],
   "source": [
    "from sklearn.model_selection import train_test_split\n",
    "from sklearn.ensemble import RandomForestRegressor\n",
    "from sklearn.ensemble import GradientBoostingRegressor\n",
    "from sklearn.metrics import mean_absolute_error\n",
    "from sklearn.metrics import mean_squared_error\n",
    "from sklearn.feature_selection import SelectFromModel\n",
    "from sklearn.preprocessing import StandardScaler, MinMaxScaler\n",
    "import numpy as np\n",
    "import pandas as pd\n",
    "\n",
    "# Assuming you have arrays X and Y already defined\n",
    "\n",
    "# Concatenate X and Y along the second axis (column-wise)\n",
    "concatenated = np.concatenate((X, Y.reshape(-1, 1)), axis=1)\n",
    "\n",
    "# Create a dataframe from the concatenated array\n",
    "df = pd.DataFrame(concatenated)\n",
    "\n",
    "# Optional: If you want to assign column names to the dataframe\n",
    "column_names = [\n",
    "            \"session_duration\",\n",
    "            \"num_actions\",\n",
    "            \"num_unique_pages\",\n",
    "            \"is_member\",\n",
    "            \"is_App\",\n",
    "            \"device\",\n",
    "            \"content_types\",\n",
    "            \"Banner001\",\n",
    "            \"TabBar\",\n",
    "            \"PopupAD\",\n",
    "            \"Home\",\n",
    "            \"CustomPage\",\n",
    "            \"Sidebar\",\n",
    "            \"num_unique_pages\",\n",
    "            \"UTMSource\",\n",
    "            \"ContentName\",\n",
    "            \"viewcategory_count\",\n",
    "            \"viewactivity_count\",\n",
    "            \"viewalbumdetail_count\",\n",
    "            \"viewvideodetail_count\",\n",
    "            \"viewarticledetail_count\",\n",
    "            \"viewecoupondetail_count\",\n",
    "            \"viewpromotiondetail_count\",\n",
    "            \"viewproduct_count\",\n",
    "            \"search_count\",\n",
    "            \"addtocart_count\",\n",
    "            \"viewmainpage_count\",\n",
    "            \"viewcategory_time\",\n",
    "            \"viewactivity_time\",\n",
    "            \"viewalbumdetail_time\",\n",
    "            \"viewvideodetail_time\",\n",
    "            \"viewarticledetail_time\",\n",
    "            \"viewecoupondetail_time\",\n",
    "            \"viewpromotiondetail_time\",\n",
    "            \"viewproduct_time\",\n",
    "            \"search_time\",\n",
    "            \"addtocart_time\",\n",
    "            \"viewmainpage_time\"\n",
    "        ] + ['Y']\n",
    "df.columns = column_names\n",
    "\n",
    "df.head()\n"
   ]
  },
  {
   "attachments": {},
   "cell_type": "markdown",
   "metadata": {},
   "source": [
    "# (一) 隨機切分train/test (8:2)"
   ]
  },
  {
   "cell_type": "code",
   "execution_count": 5,
   "metadata": {},
   "outputs": [
    {
     "name": "stdout",
     "output_type": "stream",
     "text": [
      "train shape: (69993, 38)\n",
      "test shape: (17499, 38)\n"
     ]
    }
   ],
   "source": [
    "y1 = df['Y'].dropna()\n",
    "X1 = df.drop(['Y'],axis=1) \n",
    "train_X1, test_X1, train_y1, test_y1 = train_test_split(X1, y1, test_size=0.2, random_state=3654)\n",
    "\n",
    "train_X1 = train_X1.reset_index(drop=True)\n",
    "test_X1 = test_X1.reset_index(drop=True)\n",
    "\n",
    "\n",
    "print('train shape:', train_X1.shape)\n",
    "print('test shape:', test_X1.shape)"
   ]
  },
  {
   "cell_type": "code",
   "execution_count": 10,
   "metadata": {},
   "outputs": [
    {
     "data": {
      "text/plain": [
       "2.6814590317193194"
      ]
     },
     "execution_count": 10,
     "metadata": {},
     "output_type": "execute_result"
    }
   ],
   "source": [
    "# 使用 Random Forest 模型預測\n",
    "\n",
    "model = RandomForestRegressor(n_estimators=10, random_state=3654)\n",
    "model.fit(train_X1, train_y1)\n",
    "\n",
    "y_pred1_rf = model.predict(test_X1)\n",
    "\n",
    "mean_absolute_error(test_y1, y_pred1_rf)"
   ]
  },
  {
   "cell_type": "code",
   "execution_count": 11,
   "metadata": {},
   "outputs": [
    {
     "data": {
      "text/plain": [
       "9.184350507785997"
      ]
     },
     "execution_count": 11,
     "metadata": {},
     "output_type": "execute_result"
    }
   ],
   "source": [
    "# 使用 Gradient Boosting 模型預測\n",
    "\n",
    "model = GradientBoostingRegressor(n_estimators=10, random_state=3654)\n",
    "model.fit(train_X1, train_y1)\n",
    "\n",
    "y_pred1_gb = model.predict(test_X1)\n",
    "\n",
    "mean_absolute_error(test_y1, y_pred1_gb)"
   ]
  },
  {
   "attachments": {},
   "cell_type": "markdown",
   "metadata": {},
   "source": [
    "# (二) 依index順序，將前80%做為train，後20%做為test"
   ]
  },
  {
   "cell_type": "code",
   "execution_count": 12,
   "metadata": {},
   "outputs": [
    {
     "name": "stdout",
     "output_type": "stream",
     "text": [
      "train shape: (69993, 39)\n",
      "test shape: (17499, 39)\n"
     ]
    }
   ],
   "source": [
    "train_rows = int(0.8 * len(df))\n",
    "train2 = df[:train_rows]\n",
    "test2 = df[train_rows:]\n",
    "\n",
    "print('train shape:', train2.shape)\n",
    "print('test shape:', test2.shape)"
   ]
  },
  {
   "cell_type": "code",
   "execution_count": 13,
   "metadata": {},
   "outputs": [],
   "source": [
    "train_y2 = train2['Y'].dropna()\n",
    "train_X2 = train2.drop(['Y'], axis=1)\n",
    "test_y2 = test2['Y'].dropna()\n",
    "test_X2 = test2.drop(['Y'], axis=1)\n",
    "\n",
    "train_X2 = train_X2.reset_index(drop=True)\n",
    "test_X2 = test_X2.reset_index(drop=True)"
   ]
  },
  {
   "cell_type": "code",
   "execution_count": 14,
   "metadata": {},
   "outputs": [
    {
     "data": {
      "text/plain": [
       "7.397581718524592"
      ]
     },
     "execution_count": 14,
     "metadata": {},
     "output_type": "execute_result"
    }
   ],
   "source": [
    "# 使用 Random Forest 模型預測\n",
    "\n",
    "model = RandomForestRegressor(n_estimators=10, random_state=3654)\n",
    "model.fit(train_X2, train_y2)\n",
    "\n",
    "y_pred2_rf = model.predict(test_X2)\n",
    "\n",
    "mean_absolute_error(test_y2, y_pred2_rf)"
   ]
  },
  {
   "cell_type": "code",
   "execution_count": 15,
   "metadata": {},
   "outputs": [
    {
     "data": {
      "text/plain": [
       "7.8052813246990445"
      ]
     },
     "execution_count": 15,
     "metadata": {},
     "output_type": "execute_result"
    }
   ],
   "source": [
    "# 使用 Gradient Boosting 模型預測\n",
    "\n",
    "model = GradientBoostingRegressor(n_estimators=10, random_state=3654)\n",
    "model.fit(train_X2, train_y2)\n",
    "\n",
    "y_pred2_gb = model.predict(test_X2)\n",
    "\n",
    "mean_absolute_error(test_y2, y_pred2_gb)"
   ]
  },
  {
   "attachments": {},
   "cell_type": "markdown",
   "metadata": {},
   "source": [
    "# (三) 先抽樣做feature selection，再進行預測"
   ]
  },
  {
   "cell_type": "code",
   "execution_count": 16,
   "metadata": {},
   "outputs": [],
   "source": [
    "import random\n",
    "\n",
    "random.seed(6829)\n",
    "\n",
    "sample_df = df.sample(n=1000)\n",
    "\n",
    "sam_X = sample_df.drop(['Y'],axis=1)\n",
    "sam_Y = sample_df['Y']"
   ]
  },
  {
   "cell_type": "code",
   "execution_count": 17,
   "metadata": {},
   "outputs": [],
   "source": [
    "def RandomForest_evaluation(X,Y):\n",
    "    X_train, X_test, Y_train, Y_test = train_test_split(\n",
    "        X, Y, test_size = 0.2, random_state = 3654) \n",
    "\n",
    "    # RandomForestClassifier訓練模型\n",
    "    model = RandomForestRegressor(random_state = 98437)\n",
    "    model.fit(X_train, Y_train)\n",
    "\n",
    "    # 預測\n",
    "    Y_pred = model.predict(X_test)\n",
    "\n",
    "    # 回傳evaluation_metrics_on_test_set\n",
    "    return {'MAE': mean_absolute_error(Y_test, Y_pred)}"
   ]
  },
  {
   "cell_type": "code",
   "execution_count": 18,
   "metadata": {},
   "outputs": [
    {
     "data": {
      "text/html": [
       "<div>\n",
       "<style scoped>\n",
       "    .dataframe tbody tr th:only-of-type {\n",
       "        vertical-align: middle;\n",
       "    }\n",
       "\n",
       "    .dataframe tbody tr th {\n",
       "        vertical-align: top;\n",
       "    }\n",
       "\n",
       "    .dataframe thead th {\n",
       "        text-align: right;\n",
       "    }\n",
       "</style>\n",
       "<table border=\"1\" class=\"dataframe\">\n",
       "  <thead>\n",
       "    <tr style=\"text-align: right;\">\n",
       "      <th></th>\n",
       "      <th>MAE</th>\n",
       "    </tr>\n",
       "  </thead>\n",
       "  <tbody>\n",
       "    <tr>\n",
       "      <th>ALL</th>\n",
       "      <td>6.307934</td>\n",
       "    </tr>\n",
       "  </tbody>\n",
       "</table>\n",
       "</div>"
      ],
      "text/plain": [
       "          MAE\n",
       "ALL  6.307934"
      ]
     },
     "execution_count": 18,
     "metadata": {},
     "output_type": "execute_result"
    }
   ],
   "source": [
    "res = pd.DataFrame(RandomForest_evaluation(sam_X,sam_Y), index=['ALL'])\n",
    "res"
   ]
  },
  {
   "cell_type": "code",
   "execution_count": 19,
   "metadata": {},
   "outputs": [
    {
     "data": {
      "text/plain": [
       "Index(['session_duration', 'num_actions', 'num_unique_pages', 'device',\n",
       "       'content_types', 'Home', 'num_unique_pages', 'UTMSource',\n",
       "       'viewcategory_count', 'viewpromotiondetail_count', 'viewproduct_count',\n",
       "       'search_count', 'viewmainpage_count', 'viewcategory_time',\n",
       "       'viewecoupondetail_time', 'viewpromotiondetail_time',\n",
       "       'viewproduct_time', 'search_time', 'viewmainpage_time'],\n",
       "      dtype='object')"
      ]
     },
     "execution_count": 19,
     "metadata": {},
     "output_type": "execute_result"
    }
   ],
   "source": [
    "#RFE\n",
    "from sklearn.feature_selection import RFE\n",
    "\n",
    "def rfe_selection( X , Y, k=20):\n",
    "    X_train, X_test, Y_train, Y_test = train_test_split(\n",
    "        sam_X, sam_Y, test_size = 0.2, random_state = 3654)\n",
    "    \n",
    "    #對特徵標準化\n",
    "    scaler = StandardScaler().fit(X_train)\n",
    "    X_train_scaled = scaler.transform(X_train)\n",
    "    X_test_scaled = scaler.transform(X_test)\n",
    "    \n",
    "    model = RandomForestRegressor(random_state=98437)\n",
    "    rfe = RFE(model)\n",
    "    rfe = rfe.fit(X_train_scaled, Y_train)\n",
    "\n",
    "    feature_names = X.columns[rfe.get_support()]\n",
    "    \n",
    "    return feature_names\n",
    "\n",
    "rfe_selection(sam_X,sam_Y, 20)"
   ]
  },
  {
   "cell_type": "code",
   "execution_count": 24,
   "metadata": {},
   "outputs": [
    {
     "data": {
      "text/html": [
       "<div>\n",
       "<style scoped>\n",
       "    .dataframe tbody tr th:only-of-type {\n",
       "        vertical-align: middle;\n",
       "    }\n",
       "\n",
       "    .dataframe tbody tr th {\n",
       "        vertical-align: top;\n",
       "    }\n",
       "\n",
       "    .dataframe thead th {\n",
       "        text-align: right;\n",
       "    }\n",
       "</style>\n",
       "<table border=\"1\" class=\"dataframe\">\n",
       "  <thead>\n",
       "    <tr style=\"text-align: right;\">\n",
       "      <th></th>\n",
       "      <th>MAE</th>\n",
       "    </tr>\n",
       "  </thead>\n",
       "  <tbody>\n",
       "    <tr>\n",
       "      <th>ALL</th>\n",
       "      <td>6.307934</td>\n",
       "    </tr>\n",
       "    <tr>\n",
       "      <th>RFE</th>\n",
       "      <td>6.237156</td>\n",
       "    </tr>\n",
       "  </tbody>\n",
       "</table>\n",
       "</div>"
      ],
      "text/plain": [
       "          MAE\n",
       "ALL  6.307934\n",
       "RFE  6.237156"
      ]
     },
     "execution_count": 24,
     "metadata": {},
     "output_type": "execute_result"
    }
   ],
   "source": [
    "res = pd.concat([res, pd.DataFrame(RandomForest_evaluation(\n",
    "        sam_X[rfe_selection(sam_X,sam_Y)], \n",
    "        sam_Y), \n",
    "        index=['RFE'])])\n",
    "\n",
    "res"
   ]
  },
  {
   "cell_type": "code",
   "execution_count": 25,
   "metadata": {},
   "outputs": [
    {
     "data": {
      "text/plain": [
       "Index(['session_duration', 'num_actions', 'num_unique_pages', 'device',\n",
       "       'content_types', 'Banner001', 'Home', 'CustomPage', 'Sidebar',\n",
       "       'num_unique_pages', 'UTMSource', 'viewcategory_count',\n",
       "       'viewpromotiondetail_count', 'viewproduct_count', 'search_count',\n",
       "       'viewmainpage_count', 'viewcategory_time', 'viewecoupondetail_time',\n",
       "       'viewpromotiondetail_time', 'viewproduct_time', 'search_time',\n",
       "       'viewmainpage_time'],\n",
       "      dtype='object')"
      ]
     },
     "execution_count": 25,
     "metadata": {},
     "output_type": "execute_result"
    }
   ],
   "source": [
    "def feature_importance(X,Y):\n",
    "    X_train, X_test, Y_train, Y_test = train_test_split(X, Y, test_size = 0.2, random_state = 3654)\n",
    "    \n",
    "    scaler = StandardScaler().fit(X_train)\n",
    "    X_train_scaled = scaler.transform(X_train)\n",
    "    X_test_scaled = scaler.transform(X_test)\n",
    "\n",
    "    model = RandomForestRegressor(random_state=98437)\n",
    "    model = model.fit(X_train_scaled,Y_train)\n",
    "\n",
    "    return model\n",
    "\n",
    "\n",
    "def select_features_from_model(model,X):\n",
    "    \n",
    "    model = SelectFromModel(model, prefit=True, threshold=0.0015)\n",
    "    feature_idx = model.get_support()\n",
    "    feature_names = X.columns[feature_idx]\n",
    "        \n",
    "    return feature_names\n",
    "\n",
    "model = feature_importance(sam_X,sam_Y)\n",
    "feature_imp_feature_names = select_features_from_model(model,sam_X)\n",
    "feature_imp_feature_names"
   ]
  },
  {
   "cell_type": "code",
   "execution_count": 28,
   "metadata": {},
   "outputs": [
    {
     "data": {
      "text/html": [
       "<div>\n",
       "<style scoped>\n",
       "    .dataframe tbody tr th:only-of-type {\n",
       "        vertical-align: middle;\n",
       "    }\n",
       "\n",
       "    .dataframe tbody tr th {\n",
       "        vertical-align: top;\n",
       "    }\n",
       "\n",
       "    .dataframe thead th {\n",
       "        text-align: right;\n",
       "    }\n",
       "</style>\n",
       "<table border=\"1\" class=\"dataframe\">\n",
       "  <thead>\n",
       "    <tr style=\"text-align: right;\">\n",
       "      <th></th>\n",
       "      <th>MAE</th>\n",
       "    </tr>\n",
       "  </thead>\n",
       "  <tbody>\n",
       "    <tr>\n",
       "      <th>ALL</th>\n",
       "      <td>6.307934</td>\n",
       "    </tr>\n",
       "    <tr>\n",
       "      <th>RFE</th>\n",
       "      <td>6.237156</td>\n",
       "    </tr>\n",
       "    <tr>\n",
       "      <th>Feature Importance</th>\n",
       "      <td>6.156794</td>\n",
       "    </tr>\n",
       "    <tr>\n",
       "      <th>Feature Importance</th>\n",
       "      <td>6.156794</td>\n",
       "    </tr>\n",
       "  </tbody>\n",
       "</table>\n",
       "</div>"
      ],
      "text/plain": [
       "                         MAE\n",
       "ALL                 6.307934\n",
       "RFE                 6.237156\n",
       "Feature Importance  6.156794\n",
       "Feature Importance  6.156794"
      ]
     },
     "execution_count": 28,
     "metadata": {},
     "output_type": "execute_result"
    }
   ],
   "source": [
    "res = pd.concat([res, pd.DataFrame(\n",
    "        RandomForest_evaluation(\n",
    "            sam_X[feature_imp_feature_names],\n",
    "            sam_Y), \n",
    "            index=['Feature Importance'])])\n",
    "res"
   ]
  },
  {
   "cell_type": "code",
   "execution_count": 29,
   "metadata": {},
   "outputs": [
    {
     "data": {
      "text/plain": [
       "Index(['session_duration', 'num_actions', 'num_unique_pages', 'device',\n",
       "       'content_types', 'Banner001', 'Home', 'CustomPage', 'Sidebar',\n",
       "       'num_unique_pages', 'UTMSource', 'viewcategory_count',\n",
       "       'viewpromotiondetail_count', 'viewproduct_count', 'search_count',\n",
       "       'viewmainpage_count', 'viewcategory_time', 'viewecoupondetail_time',\n",
       "       'viewpromotiondetail_time', 'viewproduct_time', 'search_time',\n",
       "       'viewmainpage_time'],\n",
       "      dtype='object')"
      ]
     },
     "execution_count": 29,
     "metadata": {},
     "output_type": "execute_result"
    }
   ],
   "source": [
    "def feature_importance(X,Y):\n",
    "    X_train, X_test, Y_train, Y_test = train_test_split(X, Y, test_size = 0.2, random_state = 3654)\n",
    "    \n",
    "    scaler = StandardScaler().fit(X_train)\n",
    "    X_train_scaled = scaler.transform(X_train)\n",
    "    X_test_scaled = scaler.transform(X_test)\n",
    "\n",
    "    model = RandomForestRegressor(random_state=98437)\n",
    "    model = model.fit(X_train_scaled,Y_train)\n",
    "\n",
    "    return model\n",
    "\n",
    "\n",
    "def select_features_from_model(model,X):\n",
    "    \n",
    "    model = SelectFromModel(model, prefit=True, threshold=0.0015)\n",
    "    feature_idx = model.get_support()\n",
    "    feature_names = X.columns[feature_idx]\n",
    "        \n",
    "    return feature_names\n",
    "\n",
    "model = feature_importance(sam_X,sam_Y)\n",
    "feature_imp_feature_names = select_features_from_model(model,sam_X)\n",
    "feature_imp_feature_names"
   ]
  },
  {
   "cell_type": "code",
   "execution_count": 30,
   "metadata": {},
   "outputs": [
    {
     "data": {
      "text/html": [
       "<div>\n",
       "<style scoped>\n",
       "    .dataframe tbody tr th:only-of-type {\n",
       "        vertical-align: middle;\n",
       "    }\n",
       "\n",
       "    .dataframe tbody tr th {\n",
       "        vertical-align: top;\n",
       "    }\n",
       "\n",
       "    .dataframe thead th {\n",
       "        text-align: right;\n",
       "    }\n",
       "</style>\n",
       "<table border=\"1\" class=\"dataframe\">\n",
       "  <thead>\n",
       "    <tr style=\"text-align: right;\">\n",
       "      <th></th>\n",
       "      <th>MAE</th>\n",
       "    </tr>\n",
       "  </thead>\n",
       "  <tbody>\n",
       "    <tr>\n",
       "      <th>ALL</th>\n",
       "      <td>6.307934</td>\n",
       "    </tr>\n",
       "    <tr>\n",
       "      <th>RFE</th>\n",
       "      <td>6.237156</td>\n",
       "    </tr>\n",
       "    <tr>\n",
       "      <th>Feature Importance</th>\n",
       "      <td>6.156794</td>\n",
       "    </tr>\n",
       "    <tr>\n",
       "      <th>Feature Importance</th>\n",
       "      <td>6.156794</td>\n",
       "    </tr>\n",
       "    <tr>\n",
       "      <th>Feature Importance</th>\n",
       "      <td>6.156794</td>\n",
       "    </tr>\n",
       "  </tbody>\n",
       "</table>\n",
       "</div>"
      ],
      "text/plain": [
       "                         MAE\n",
       "ALL                 6.307934\n",
       "RFE                 6.237156\n",
       "Feature Importance  6.156794\n",
       "Feature Importance  6.156794\n",
       "Feature Importance  6.156794"
      ]
     },
     "execution_count": 30,
     "metadata": {},
     "output_type": "execute_result"
    }
   ],
   "source": [
    "res = pd.concat([res, pd.DataFrame(\n",
    "        RandomForest_evaluation(\n",
    "            sam_X[feature_imp_feature_names],\n",
    "            sam_Y), \n",
    "            index=['Feature Importance'])])\n",
    "res"
   ]
  },
  {
   "cell_type": "code",
   "execution_count": 31,
   "metadata": {},
   "outputs": [
    {
     "name": "stdout",
     "output_type": "stream",
     "text": [
      "Index(['is_App', 'Banner001', 'session_duration', 'ContentName', 'TabBar',\n",
      "       'num_unique_pages', 'viewactivity_count', 'content_types', 'device',\n",
      "       'is_member', 'num_actions', 'viewcategory_count',\n",
      "       'viewalbumdetail_count', 'UTMSource', 'viewvideodetail_count',\n",
      "       'num_unique_pages', 'Sidebar', 'PopupAD', 'Home', 'CustomPage'],\n",
      "      dtype='object')\n"
     ]
    }
   ],
   "source": [
    "from sklearn.decomposition import PCA\n",
    "\n",
    "def pca_selection( X , Y, k):\n",
    "    \n",
    "    # Split train and test sets\n",
    "    X_train, X_test, Y_train, Y_test = train_test_split(\n",
    "        X, \n",
    "        Y, \n",
    "        test_size = 0.2,  \n",
    "        random_state = 3654)\n",
    "    \n",
    "    scaler = StandardScaler().fit(X_train)\n",
    "    X_train_scaled = scaler.transform(X_train)\n",
    "    X_test_scaled = scaler.transform(X_test)\n",
    "    \n",
    "    pca = PCA(n_components=k)\n",
    "    X_train_pca = pca.fit_transform(X_train_scaled)\n",
    "    X_test_pca = pca.transform(X_test_scaled)\n",
    "\n",
    "    model = RandomForestRegressor(random_state=3654)\n",
    "    model.fit(X_train_pca, Y_train)\n",
    "\n",
    "    # Get feature importances from RandomForestRegressor\n",
    "    feature_importances = model.feature_importances_\n",
    "    # Sort feature importances in descending order\n",
    "    sorted_indices = feature_importances.argsort()[::-1]\n",
    "    # Get the feature names based on sorted indices\n",
    "    feature_names = X.columns[sorted_indices][:k]\n",
    "\n",
    "    return feature_names\n",
    "\n",
    "pca_selected_features = pca_selection(sam_X, sam_Y, 20)\n",
    "print(pca_selected_features)"
   ]
  },
  {
   "cell_type": "code",
   "execution_count": 32,
   "metadata": {},
   "outputs": [
    {
     "data": {
      "text/html": [
       "<div>\n",
       "<style scoped>\n",
       "    .dataframe tbody tr th:only-of-type {\n",
       "        vertical-align: middle;\n",
       "    }\n",
       "\n",
       "    .dataframe tbody tr th {\n",
       "        vertical-align: top;\n",
       "    }\n",
       "\n",
       "    .dataframe thead th {\n",
       "        text-align: right;\n",
       "    }\n",
       "</style>\n",
       "<table border=\"1\" class=\"dataframe\">\n",
       "  <thead>\n",
       "    <tr style=\"text-align: right;\">\n",
       "      <th></th>\n",
       "      <th>MAE</th>\n",
       "    </tr>\n",
       "  </thead>\n",
       "  <tbody>\n",
       "    <tr>\n",
       "      <th>ALL</th>\n",
       "      <td>6.307934</td>\n",
       "    </tr>\n",
       "    <tr>\n",
       "      <th>RFE</th>\n",
       "      <td>6.237156</td>\n",
       "    </tr>\n",
       "    <tr>\n",
       "      <th>Feature Importance</th>\n",
       "      <td>6.156794</td>\n",
       "    </tr>\n",
       "    <tr>\n",
       "      <th>Feature Importance</th>\n",
       "      <td>6.156794</td>\n",
       "    </tr>\n",
       "    <tr>\n",
       "      <th>Feature Importance</th>\n",
       "      <td>6.156794</td>\n",
       "    </tr>\n",
       "    <tr>\n",
       "      <th>PCA</th>\n",
       "      <td>7.071534</td>\n",
       "    </tr>\n",
       "  </tbody>\n",
       "</table>\n",
       "</div>"
      ],
      "text/plain": [
       "                         MAE\n",
       "ALL                 6.307934\n",
       "RFE                 6.237156\n",
       "Feature Importance  6.156794\n",
       "Feature Importance  6.156794\n",
       "Feature Importance  6.156794\n",
       "PCA                 7.071534"
      ]
     },
     "execution_count": 32,
     "metadata": {},
     "output_type": "execute_result"
    }
   ],
   "source": [
    "res = pd.concat([res, pd.DataFrame(\n",
    "        RandomForest_evaluation(\n",
    "            sam_X[pca_selected_features],\n",
    "            sam_Y), \n",
    "            index=['PCA'])])\n",
    "res"
   ]
  },
  {
   "cell_type": "code",
   "execution_count": 33,
   "metadata": {},
   "outputs": [],
   "source": [
    "# 使用RFE篩選出的變數\n",
    "\n",
    "y3 = df['Y'].dropna()\n",
    "X3 = df.drop(['is_member',\n",
    "              'is_App',        \n",
    "              'Banner001',               \n",
    "              'TabBar',\n",
    "              'PopupAD',                       \n",
    "              'CustomPage',                \n",
    "              'Sidebar',                                  \n",
    "              'ContentName',                            \n",
    "              'viewactivity_count',           \n",
    "              'viewalbumdetail_count',        \n",
    "              'viewvideodetail_count',       \n",
    "              'viewarticledetail_count',         \n",
    "              'viewpromotiondetail_count',           \n",
    "              'search_count',             \n",
    "              'addtocart_count',                   \n",
    "              'viewactivity_time',         \n",
    "              'viewalbumdetail_time',        \n",
    "              'viewvideodetail_time',\n",
    "              'viewarticledetail_time',\n",
    "              'addtocart_time',            \n",
    "              'Y'],axis=1) \n",
    "  "
   ]
  },
  {
   "cell_type": "code",
   "execution_count": 34,
   "metadata": {},
   "outputs": [
    {
     "name": "stdout",
     "output_type": "stream",
     "text": [
      "train shape: (69993, 18)\n",
      "test shape: (17499, 18)\n"
     ]
    }
   ],
   "source": [
    "train_X3, test_X3, train_y3, test_y3 = train_test_split(X3, y3, test_size=0.2, random_state=3654)\n",
    "\n",
    "train_X3 = train_X3.reset_index(drop=True)\n",
    "test_X3 = test_X3.reset_index(drop=True)\n",
    "\n",
    "\n",
    "print('train shape:', train_X3.shape)\n",
    "print('test shape:', test_X3.shape)"
   ]
  },
  {
   "cell_type": "code",
   "execution_count": 35,
   "metadata": {},
   "outputs": [
    {
     "data": {
      "text/plain": [
       "2.9862905842755025"
      ]
     },
     "execution_count": 35,
     "metadata": {},
     "output_type": "execute_result"
    }
   ],
   "source": [
    "# 使用 Random Forest 模型進行預測\n",
    "\n",
    "model = RandomForestRegressor(n_estimators=10, random_state=3654)\n",
    "model.fit(train_X3, train_y3)\n",
    "\n",
    "y_pred3_rf = model.predict(test_X3)\n",
    "\n",
    "mean_absolute_error(test_y3, y_pred3_rf)"
   ]
  },
  {
   "cell_type": "code",
   "execution_count": 36,
   "metadata": {},
   "outputs": [
    {
     "data": {
      "text/plain": [
       "9.383679727473499"
      ]
     },
     "execution_count": 36,
     "metadata": {},
     "output_type": "execute_result"
    }
   ],
   "source": [
    "# 使用 Gradient Boosting 模型進行預測\n",
    "\n",
    "model = GradientBoostingRegressor(n_estimators=10, random_state=3654)\n",
    "model.fit(train_X3, train_y3)\n",
    "\n",
    "y_pred3_rf = model.predict(test_X3)\n",
    "\n",
    "mean_absolute_error(test_y3, y_pred3_rf)"
   ]
  }
 ],
 "metadata": {
  "kernelspec": {
   "display_name": "Python 3",
   "language": "python",
   "name": "python3"
  },
  "language_info": {
   "codemirror_mode": {
    "name": "ipython",
    "version": 3
   },
   "file_extension": ".py",
   "mimetype": "text/x-python",
   "name": "python",
   "nbconvert_exporter": "python",
   "pygments_lexer": "ipython3",
   "version": "3.11.2"
  }
 },
 "nbformat": 4,
 "nbformat_minor": 0
}
